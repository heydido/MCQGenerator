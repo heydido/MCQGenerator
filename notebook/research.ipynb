{
 "cells": [
  {
   "cell_type": "code",
   "execution_count": 1,
   "id": "initial_id",
   "metadata": {},
   "outputs": [],
   "source": [
    "import os\n",
    "import json\n",
    "import pandas as pd"
   ]
  },
  {
   "cell_type": "code",
   "execution_count": 5,
   "id": "2d559a25-76de-4416-a256-ff0440f2bd6d",
   "metadata": {},
   "outputs": [
    {
     "data": {
      "text/plain": [
       "True"
      ]
     },
     "execution_count": 5,
     "metadata": {},
     "output_type": "execute_result"
    }
   ],
   "source": [
    "from dotenv import load_dotenv\n",
    "\n",
    "load_dotenv()  # take environment variables from .env."
   ]
  },
  {
   "cell_type": "code",
   "execution_count": 9,
   "id": "b9af621a-d50d-4dc4-bcf6-49024e807ccb",
   "metadata": {},
   "outputs": [],
   "source": [
    "from langchain.chat_models import ChatOpenAI"
   ]
  },
  {
   "cell_type": "code",
   "execution_count": 6,
   "id": "016d6143-5caa-4422-ae75-beed7c1a664c",
   "metadata": {},
   "outputs": [],
   "source": [
    "KEY = os.getenv(\"OPENAI_API_KEY\")"
   ]
  },
  {
   "cell_type": "code",
   "execution_count": 10,
   "id": "58fa4d4b-711b-485c-9461-53bb3e29eb08",
   "metadata": {},
   "outputs": [],
   "source": "llm = ChatOpenAI(openai_api_key=KEY, model_name=\"gpt-3.5-turbo\", temperature=0.5)"
  },
  {
   "cell_type": "code",
   "execution_count": null,
   "id": "85893c47-3959-4bb3-9aff-099cc3e3311c",
   "metadata": {},
   "outputs": [],
   "source": []
  },
  {
   "cell_type": "code",
   "execution_count": 12,
   "id": "a43973aa-1f82-4595-86e4-d380c0d0c83b",
   "metadata": {},
   "outputs": [],
   "source": [
    "from langchain.prompts import PromptTemplate\n",
    "from langchain.chains import LLMChain\n",
    "from langchain.chains import SequentialChain\n",
    "from langchain.callbacks import get_openai_callback"
   ]
  },
  {
   "cell_type": "code",
   "execution_count": 13,
   "id": "b575b3b5-a6f0-48ff-8c5d-1a1f58ec1b28",
   "metadata": {},
   "outputs": [],
   "source": [
    "RESPONSE_JSON = {\n",
    "    \"1\": {\n",
    "        \"MCQ\": \"multiple choice question\",\n",
    "        \"Options\": {\n",
    "            \"a\": \"choice here\",\n",
    "            \"b\": \"choice here\",\n",
    "            \"c\": \"choice here\",\n",
    "            \"d\": \"choice here\",\n",
    "        },\n",
    "        \"Correct\": \"correct answer\",\n",
    "    },\n",
    "    \"2\": {\n",
    "        \"MCQ\": \"multiple choice question\",\n",
    "        \"Options\": {\n",
    "            \"a\": \"choice here\",\n",
    "            \"b\": \"choice here\",\n",
    "            \"c\": \"choice here\",\n",
    "            \"d\": \"choice here\",\n",
    "        },\n",
    "        \"Correct\": \"correct answer\",\n",
    "    },\n",
    "    \"3\": {\n",
    "        \"MCQ\": \"multiple choice question\",\n",
    "        \"Options\": {\n",
    "            \"a\": \"choice here\",\n",
    "            \"b\": \"choice here\",\n",
    "            \"c\": \"choice here\",\n",
    "            \"d\": \"choice here\",\n",
    "        },\n",
    "        \"Correct\": \"correct answer\",\n",
    "    }\n",
    "}"
   ]
  },
  {
   "cell_type": "code",
   "execution_count": 21,
   "id": "111f72b8-a27a-4082-8b61-c11a7b98986a",
   "metadata": {},
   "outputs": [],
   "source": [
    "QUIZ_GENERATION_TEMPLATE = \"\"\"\n",
    "    Text: {text}\n",
    "    You are an expert MCQ generator. Given the above text, it is your job to create a quiz of {num_questions} multiple choice questions for {subject} students in {tone} tone. \n",
    "    Make sure of the following: (1) The questions are not repeated, and check all the questions to be conforming the text as well, (2) Use RESPONSE_JSON defined below as a guide to format your response, and (3) create {num_questions} MCQs.\n",
    "    \n",
    "    ### RESPONSE_JSON\n",
    "    {response_json}\n",
    "\"\"\""
   ]
  },
  {
   "cell_type": "code",
   "execution_count": 22,
   "id": "8ae22679-1bdf-4c7b-b856-878e77248cbc",
   "metadata": {},
   "outputs": [],
   "source": [
    "quiz_generation_prompt = PromptTemplate(\n",
    "    input_variables=[\"text\", \"num_questions\", \"subject\", \"tone\", \"response_json\"],\n",
    "    template=QUIZ_GENERATION_TEMPLATE\n",
    ")"
   ]
  },
  {
   "cell_type": "code",
   "execution_count": 23,
   "id": "462b74da-4e36-4469-8c64-4279e50028f5",
   "metadata": {},
   "outputs": [],
   "source": [
    "quiz_chain = LLMChain(llm=llm, prompt=quiz_generation_prompt, output_key=\"quiz\", verbose=True)"
   ]
  },
  {
   "cell_type": "code",
   "execution_count": 25,
   "id": "92db70d0-af59-4a78-99ea-7d81468c339d",
   "metadata": {},
   "outputs": [],
   "source": [
    "QUIZ_EVALUATION_TEMPLATE = \"\"\"\n",
    "    You are an expert English grammarian and writer. Given a Multiple Choice Quiz for {subject} students,\n",
    "    You need to evaluate the complexity of the question and give a complete analysis of the quiz. Use only a max of 50 words for complexity analysis. \n",
    "    If the quiz is not at par with the cognitive and analytical abilities of the students, update the quiz questions that need to be changed, and change the tone such that it perfectly fits the student's abilities\n",
    "    \n",
    "    Here is the quiz you need to evaluate:\n",
    "    \n",
    "    Quiz_MCQs:\n",
    "    {quiz}\n",
    "\"\"\""
   ]
  },
  {
   "cell_type": "code",
   "execution_count": 26,
   "id": "e09f8f5f-e48e-45a3-ab27-3319ca7dafe8",
   "metadata": {},
   "outputs": [],
   "source": [
    "quiz_evaluation_prompt = PromptTemplate(\n",
    "    input_variables=[\"subject\", \"quiz\"], \n",
    "    template=QUIZ_EVALUATION_TEMPLATE\n",
    ")"
   ]
  },
  {
   "cell_type": "code",
   "execution_count": 27,
   "id": "09ea31af-36e4-4511-8480-50b39bc4a5e5",
   "metadata": {},
   "outputs": [],
   "source": [
    "review_chain = LLMChain(llm=llm, prompt=quiz_evaluation_prompt, output_key=\"review\", verbose=True)"
   ]
  },
  {
   "cell_type": "code",
   "execution_count": 28,
   "id": "0604da3f-460c-43c1-8845-e5802d01343d",
   "metadata": {},
   "outputs": [],
   "source": [
    "generate_evaluate_chain = SequentialChain(\n",
    "    chains=[quiz_chain, review_chain], \n",
    "    input_variables=[\"text\", \"num_questions\", \"subject\", \"tone\", \"response_json\"],\n",
    "    output_variables=[\"quiz\", \"review\"], \n",
    "    verbose=True\n",
    ")"
   ]
  },
  {
   "cell_type": "code",
   "execution_count": 29,
   "id": "aa4c33f3-acdd-4418-8895-ad56e81f3f88",
   "metadata": {},
   "outputs": [],
   "source": "data_science = \"../dataset/input/data_science.txt\""
  },
  {
   "cell_type": "code",
   "execution_count": 35,
   "id": "2bd53a92-7909-4ff9-a95c-2a76e6164b06",
   "metadata": {},
   "outputs": [],
   "source": [
    "with open(data_science, 'r') as file:\n",
    "    TEXT = file.read()"
   ]
  },
  {
   "cell_type": "code",
   "execution_count": 36,
   "id": "25d66405-96df-4b6e-9a10-fa55685e2a25",
   "metadata": {},
   "outputs": [
    {
     "name": "stdout",
     "output_type": "stream",
     "text": [
      "What is data science?\n",
      "Data science is the study of data to extract meaningful insights for business. It is a multidisciplinary approach that combines principles and practices from the fields of mathematics, statistics, artificial intelligence, and computer engineering to analyze large amounts of data. This analysis helps data scientists to ask and answer questions like what happened, why it happened, what will happen, and what can be done with the results.\n",
      "\n",
      "Why is data science important?\n",
      "Data science is important because it combines tools, methods, and technology to generate meaning from data. Modern organizations are inundated with data; there is a proliferation of devices that can automatically collect and store information. Online systems and payment portals capture more data in the fields of e-commerce, medicine, finance, and every other aspect of human life. We have text, audio, video, and image data available in vast quantities.  \n",
      "\n",
      "History of data science\n",
      "While the term data science is not new, the meanings and connotations have changed over time. The word first appeared in the â€™60s as an alternative name for statistics. In the late â€™90s, computer science professionals formalized the term. A proposed definition for data science saw it as a separate field with three aspects: data design, collection, and analysis. It still took another decade for the term to be used outside of academia. \n",
      "\n",
      "Future of data science\n",
      "Artificial intelligence and machine learning innovations have made data processing faster and more efficient. Industry demand has created an ecosystem of courses, degrees, and job positions within the field of data science. Because of the cross-functional skillset and expertise required, data science shows strong projected growth over the coming decades.\n",
      "\n",
      "What is data science used for?\n",
      "Data science is used to study data in four main ways:\n",
      "\n",
      "1. Descriptive analysis\n",
      "Descriptive analysis examines data to gain insights into what happened or what is happening in the data environment. It is characterized by data visualizations such as pie charts, bar charts, line graphs, tables, or generated narratives. For example, a flight booking service may record data like the number of tickets booked each day. Descriptive analysis will reveal booking spikes, booking slumps, and high-performing months for this service.\n",
      "\n",
      "2. Diagnostic analysis\n",
      "Diagnostic analysis is a deep-dive or detailed data examination to understand why something happened. It is characterized by techniques such as drill-down, data discovery, data mining, and correlations. Multiple data operations and transformations may be performed on a given data set to discover unique patterns in each of these techniques.For example, the flight service might drill down on a particularly high-performing month to better understand the booking spike. This may lead to the discovery that many customers visit a particular city to attend a monthly sporting event.\n",
      "\n",
      "3. Predictive analysis\n",
      "Predictive analysis uses historical data to make accurate forecasts about data patterns that may occur in the future. It is characterized by techniques such as machine learning, forecasting, pattern matching, and predictive modeling. In each of these techniques, computers are trained to reverse engineer causality connections in the data.For example, the flight service team might use data science to predict flight booking patterns for the coming year at the start of each year. The computer program or algorithm may look at past data and predict booking spikes for certain destinations in May. Having anticipated their customerâ€™s future travel requirements, the company could start targeted advertising for those cities from February.\n",
      "\n",
      "4. Prescriptive analysis\n",
      "Prescriptive analytics takes predictive data to the next level. It not only predicts what is likely to happen but also suggests an optimum response to that outcome. It can analyze the potential implications of different choices and recommend the best course of action. It uses graph analysis, simulation, complex event processing, neural networks, and recommendation engines from machine learning.         \n",
      "\n",
      "Back to the flight booking example, prescriptive analysis could look at historical marketing campaigns to maximize the advantage of the upcoming booking spike. A data scientist could project booking outcomes for different levels of marketing spend on various marketing channels. These data forecasts would give the flight booking company greater confidence in their marketing decisions.\n",
      "\n",
      "What are the benefits of data science for business?\n",
      "Data science is revolutionizing the way companies operate. Many businesses, regardless of size, need a robust data science strategy to drive growth and maintain a competitive edge. Some key benefits include:\n",
      "\n",
      "Discover unknown transformative patterns\n",
      "Data science allows businesses to uncover new patterns and relationships that have the potential to transform the organization. It can reveal low-cost changes to resource management for maximum impact on profit margins.For example, an e-commerce company uses data science to discover that too many customer queries are being generated after business hours. Investigations reveal that customers are more likely to purchase if they receive a prompt response instead of an answer the next business day. By implementing 24/7 customer service, the business grows its revenue by 30%.\n",
      "\n",
      "Innovate new products and solutions\n",
      "Data science can reveal gaps and problems that would otherwise go unnoticed. Greater insight about purchase decisions, customer feedback, and business processes can drive innovation in internal operations and external solutions.For example, an online payment solution uses data science to collate and analyze customer comments about the company on social media. Analysis reveals that customers forget passwords during peak purchase periods and are unhappy with the current password retrieval system. The company can innovate a better solution and see a significant increase in customer satisfaction.\n",
      "\n",
      "Real-time optimization\n",
      "Itâ€™s very challenging for businesses, especially large-scale enterprises, to respond to changing conditions in real-time. This can cause significant losses or disruptions in business activity. Data science can help companies predict change and react optimally to different circumstances.For example, a truck-based shipping company uses data science to reduce downtime when trucks break down. They identify the routes and shift patterns that lead to faster breakdowns and tweak truck schedules. They also set up an inventory of common spare parts that need frequent replacement so trucks can be repaired faster.\n",
      "\n"
     ]
    }
   ],
   "source": [
    "print(TEXT)"
   ]
  },
  {
   "cell_type": "code",
   "execution_count": null,
   "id": "8daf1f94-0e6b-4afd-b768-71a7733f9e51",
   "metadata": {},
   "outputs": [],
   "source": []
  },
  {
   "cell_type": "code",
   "execution_count": 37,
   "id": "4e990287-2568-4cac-a744-860a9f92d2ce",
   "metadata": {},
   "outputs": [],
   "source": [
    "NUM_QUESTIONS = 5 \n",
    "SUBJECT = \"Data Science\"\n",
    "TONE = \"Simple\""
   ]
  },
  {
   "cell_type": "code",
   "execution_count": 39,
   "id": "f0a1855e-6334-4993-9f76-028ca99432b0",
   "metadata": {},
   "outputs": [
    {
     "name": "stdout",
     "output_type": "stream",
     "text": [
      "\n",
      "\n",
      "\u001B[1m> Entering new SequentialChain chain...\u001B[0m\n",
      "\n",
      "\n",
      "\u001B[1m> Entering new LLMChain chain...\u001B[0m\n",
      "Prompt after formatting:\n",
      "\u001B[32;1m\u001B[1;3m\n",
      "    Text: What is data science?\n",
      "Data science is the study of data to extract meaningful insights for business. It is a multidisciplinary approach that combines principles and practices from the fields of mathematics, statistics, artificial intelligence, and computer engineering to analyze large amounts of data. This analysis helps data scientists to ask and answer questions like what happened, why it happened, what will happen, and what can be done with the results.\n",
      "\n",
      "Why is data science important?\n",
      "Data science is important because it combines tools, methods, and technology to generate meaning from data. Modern organizations are inundated with data; there is a proliferation of devices that can automatically collect and store information. Online systems and payment portals capture more data in the fields of e-commerce, medicine, finance, and every other aspect of human life. We have text, audio, video, and image data available in vast quantities.  \n",
      "\n",
      "History of data science\n",
      "While the term data science is not new, the meanings and connotations have changed over time. The word first appeared in the â€™60s as an alternative name for statistics. In the late â€™90s, computer science professionals formalized the term. A proposed definition for data science saw it as a separate field with three aspects: data design, collection, and analysis. It still took another decade for the term to be used outside of academia. \n",
      "\n",
      "Future of data science\n",
      "Artificial intelligence and machine learning innovations have made data processing faster and more efficient. Industry demand has created an ecosystem of courses, degrees, and job positions within the field of data science. Because of the cross-functional skillset and expertise required, data science shows strong projected growth over the coming decades.\n",
      "\n",
      "What is data science used for?\n",
      "Data science is used to study data in four main ways:\n",
      "\n",
      "1. Descriptive analysis\n",
      "Descriptive analysis examines data to gain insights into what happened or what is happening in the data environment. It is characterized by data visualizations such as pie charts, bar charts, line graphs, tables, or generated narratives. For example, a flight booking service may record data like the number of tickets booked each day. Descriptive analysis will reveal booking spikes, booking slumps, and high-performing months for this service.\n",
      "\n",
      "2. Diagnostic analysis\n",
      "Diagnostic analysis is a deep-dive or detailed data examination to understand why something happened. It is characterized by techniques such as drill-down, data discovery, data mining, and correlations. Multiple data operations and transformations may be performed on a given data set to discover unique patterns in each of these techniques.For example, the flight service might drill down on a particularly high-performing month to better understand the booking spike. This may lead to the discovery that many customers visit a particular city to attend a monthly sporting event.\n",
      "\n",
      "3. Predictive analysis\n",
      "Predictive analysis uses historical data to make accurate forecasts about data patterns that may occur in the future. It is characterized by techniques such as machine learning, forecasting, pattern matching, and predictive modeling. In each of these techniques, computers are trained to reverse engineer causality connections in the data.For example, the flight service team might use data science to predict flight booking patterns for the coming year at the start of each year. The computer program or algorithm may look at past data and predict booking spikes for certain destinations in May. Having anticipated their customerâ€™s future travel requirements, the company could start targeted advertising for those cities from February.\n",
      "\n",
      "4. Prescriptive analysis\n",
      "Prescriptive analytics takes predictive data to the next level. It not only predicts what is likely to happen but also suggests an optimum response to that outcome. It can analyze the potential implications of different choices and recommend the best course of action. It uses graph analysis, simulation, complex event processing, neural networks, and recommendation engines from machine learning.         \n",
      "\n",
      "Back to the flight booking example, prescriptive analysis could look at historical marketing campaigns to maximize the advantage of the upcoming booking spike. A data scientist could project booking outcomes for different levels of marketing spend on various marketing channels. These data forecasts would give the flight booking company greater confidence in their marketing decisions.\n",
      "\n",
      "What are the benefits of data science for business?\n",
      "Data science is revolutionizing the way companies operate. Many businesses, regardless of size, need a robust data science strategy to drive growth and maintain a competitive edge. Some key benefits include:\n",
      "\n",
      "Discover unknown transformative patterns\n",
      "Data science allows businesses to uncover new patterns and relationships that have the potential to transform the organization. It can reveal low-cost changes to resource management for maximum impact on profit margins.For example, an e-commerce company uses data science to discover that too many customer queries are being generated after business hours. Investigations reveal that customers are more likely to purchase if they receive a prompt response instead of an answer the next business day. By implementing 24/7 customer service, the business grows its revenue by 30%.\n",
      "\n",
      "Innovate new products and solutions\n",
      "Data science can reveal gaps and problems that would otherwise go unnoticed. Greater insight about purchase decisions, customer feedback, and business processes can drive innovation in internal operations and external solutions.For example, an online payment solution uses data science to collate and analyze customer comments about the company on social media. Analysis reveals that customers forget passwords during peak purchase periods and are unhappy with the current password retrieval system. The company can innovate a better solution and see a significant increase in customer satisfaction.\n",
      "\n",
      "Real-time optimization\n",
      "Itâ€™s very challenging for businesses, especially large-scale enterprises, to respond to changing conditions in real-time. This can cause significant losses or disruptions in business activity. Data science can help companies predict change and react optimally to different circumstances.For example, a truck-based shipping company uses data science to reduce downtime when trucks break down. They identify the routes and shift patterns that lead to faster breakdowns and tweak truck schedules. They also set up an inventory of common spare parts that need frequent replacement so trucks can be repaired faster.\n",
      "\n",
      "    You are an expert MCQ generator. Given the above text, it is your job to create a quiz of 5 multiple choice questions for Data Science students in Simple tone. \n",
      "    Make sure of the following: (1) The questions are not repeated, and check all the questions to be conforming the text as well, (2) Use RESPONSE_JSON defined below as a guide to format your response, and (3) create 5 MCQs.\n",
      "    \n",
      "    ### RESPONSE_JSON\n",
      "    {\"1\": {\"mcq\": \"multiple choice question\", \"options\": {\"a\": \"choice here\", \"b\": \"choice here\", \"c\": \"choice here\", \"d\": \"choice here\"}, \"correct\": \"correct answer\"}, \"2\": {\"mcq\": \"multiple choice question\", \"options\": {\"a\": \"choice here\", \"b\": \"choice here\", \"c\": \"choice here\", \"d\": \"choice here\"}, \"correct\": \"correct answer\"}, \"3\": {\"mcq\": \"multiple choice question\", \"options\": {\"a\": \"choice here\", \"b\": \"choice here\", \"c\": \"choice here\", \"d\": \"choice here\"}, \"correct\": \"correct answer\"}}\n",
      "\u001B[0m\n",
      "\n",
      "\u001B[1m> Finished chain.\u001B[0m\n",
      "\n",
      "\n",
      "\u001B[1m> Entering new LLMChain chain...\u001B[0m\n",
      "Prompt after formatting:\n",
      "\u001B[32;1m\u001B[1;3m\n",
      "    You are an expert English grammarian and writer. Given a Multiple Choice Quiz for Data Science students,\n",
      "    You need to evaluate the complexity of the question and give a complete analysis of the quiz. Use only a max of 50 words for complexity analysis. \n",
      "    If the quiz is not at par with the cognitive and analytical abilities of the students, update the quiz questions that need to be changed, and change the tone such that it perfectly fits the student's abilities\n",
      "    \n",
      "    Here is the quiz you need to evaluate:\n",
      "    \n",
      "    Quiz_MCQs:\n",
      "    \n",
      "{\n",
      "    \"1\": {\n",
      "        \"mcq\": \"What is data science?\",\n",
      "        \"options\": {\n",
      "            \"a\": \"The study of animals in their natural habitats\",\n",
      "            \"b\": \"The study of data to extract meaningful insights for business\",\n",
      "            \"c\": \"The study of ancient civilizations\",\n",
      "            \"d\": \"The study of plants and their growth patterns\"\n",
      "        },\n",
      "        \"correct\": \"b\"\n",
      "    },\n",
      "    \"2\": {\n",
      "        \"mcq\": \"Which type of data analysis examines data to gain insights into what happened or what is happening?\",\n",
      "        \"options\": {\n",
      "            \"a\": \"Diagnostic analysis\",\n",
      "            \"b\": \"Predictive analysis\",\n",
      "            \"c\": \"Descriptive analysis\",\n",
      "            \"d\": \"Prescriptive analysis\"\n",
      "        },\n",
      "        \"correct\": \"c\"\n",
      "    },\n",
      "    \"3\": {\n",
      "        \"mcq\": \"What does prescriptive analytics do?\",\n",
      "        \"options\": {\n",
      "            \"a\": \"Predicts what is likely to happen\",\n",
      "            \"b\": \"Suggests an optimum response to an outcome\",\n",
      "            \"c\": \"Examines data to understand why something happened\",\n",
      "            \"d\": \"Makes accurate forecasts about data patterns\"\n",
      "        },\n",
      "        \"correct\": \"b\"\n",
      "    },\n",
      "    \"4\": {\n",
      "        \"mcq\": \"What is one benefit of data science for businesses?\",\n",
      "        \"options\": {\n",
      "            \"a\": \"Increasing customer complaints\",\n",
      "            \"b\": \"Reducing revenue\",\n",
      "            \"c\": \"Discovering unknown transformative patterns\",\n",
      "            \"d\": \"Ignoring customer feedback\"\n",
      "        },\n",
      "        \"correct\": \"c\"\n",
      "    },\n",
      "    \"5\": {\n",
      "        \"mcq\": \"How can data science help companies respond to changing conditions in real-time?\",\n",
      "        \"options\": {\n",
      "            \"a\": \"By predicting change and reacting optimally\",\n",
      "            \"b\": \"By ignoring data analysis\",\n",
      "            \"c\": \"By waiting for manual reports\",\n",
      "            \"d\": \"By not using any data at all\"\n",
      "        },\n",
      "        \"correct\": \"a\"\n",
      "    }\n",
      "}\n",
      "\u001B[0m\n",
      "\n",
      "\u001B[1m> Finished chain.\u001B[0m\n",
      "\n",
      "\u001B[1m> Finished chain.\u001B[0m\n"
     ]
    }
   ],
   "source": [
    "# Setup Token Usage Tracking in LangChain\n",
    "with get_openai_callback() as cb:\n",
    "    response = generate_evaluate_chain(\n",
    "        {\n",
    "            \"text\": TEXT,\n",
    "            \"num_questions\": NUM_QUESTIONS,\n",
    "            \"subject\": SUBJECT,\n",
    "            \"tone\": TONE,\n",
    "            \"response_json\": json.dumps(RESPONSE_JSON)\n",
    "        }\n",
    "    )"
   ]
  },
  {
   "cell_type": "code",
   "execution_count": 42,
   "id": "075b64f8-09de-4029-886f-9e86943745f1",
   "metadata": {},
   "outputs": [
    {
     "name": "stdout",
     "output_type": "stream",
     "text": [
      "Total Tokens: 2872\n",
      "Prompt Tokens: 1986\n",
      "Completion Tokens: 886\n",
      "Total Cost: $0.004751\n"
     ]
    }
   ],
   "source": [
    "print(f\"Total Tokens: {cb.total_tokens}\")\n",
    "print(f\"Prompt Tokens: {cb.prompt_tokens}\")\n",
    "print(f\"Completion Tokens: {cb.completion_tokens}\")\n",
    "print(f\"Total Cost: ${cb.total_cost}\")"
   ]
  },
  {
   "cell_type": "code",
   "execution_count": 51,
   "id": "10053dd5-9dca-45f5-b65c-0ba5c615b6d2",
   "metadata": {},
   "outputs": [],
   "source": [
    "quiz = response.get(\"quiz\")\n",
    "\n",
    "quiz = json.loads(quiz)"
   ]
  },
  {
   "cell_type": "code",
   "execution_count": null,
   "id": "06742de2-27cf-4a1f-923a-2acd34cf6ee4",
   "metadata": {},
   "outputs": [],
   "source": []
  },
  {
   "cell_type": "code",
   "execution_count": 54,
   "id": "ab464ecd-9002-4799-9a91-85743d88e430",
   "metadata": {},
   "outputs": [],
   "source": [
    "formatted_quiz = []\n",
    "for key, value in quiz.items():\n",
    "    mcq = value[\"mcq\"]\n",
    "    options = \" | \".join([f\"{option}: {option_value}\" for option, option_value in value[\"options\"].items()])\n",
    "    correct = value[\"correct\"]\n",
    "    formatted_quiz.append({\"MCQ\": mcq, \"Choices\": options, \"Correct\": correct})"
   ]
  },
  {
   "cell_type": "code",
   "execution_count": 55,
   "id": "ec32ebe7-45fc-42b4-a1de-e5360a8993e1",
   "metadata": {},
   "outputs": [],
   "source": [
    "quiz = pd.DataFrame(formatted_quiz)"
   ]
  },
  {
   "cell_type": "code",
   "execution_count": 56,
   "id": "5927d15d-4131-4176-aeaf-555e9bfaa953",
   "metadata": {},
   "outputs": [
    {
     "data": {
      "text/html": [
       "<div>\n",
       "<style scoped>\n",
       "    .dataframe tbody tr th:only-of-type {\n",
       "        vertical-align: middle;\n",
       "    }\n",
       "\n",
       "    .dataframe tbody tr th {\n",
       "        vertical-align: top;\n",
       "    }\n",
       "\n",
       "    .dataframe thead th {\n",
       "        text-align: right;\n",
       "    }\n",
       "</style>\n",
       "<table border=\"1\" class=\"dataframe\">\n",
       "  <thead>\n",
       "    <tr style=\"text-align: right;\">\n",
       "      <th></th>\n",
       "      <th>MCQ</th>\n",
       "      <th>Choices</th>\n",
       "      <th>Correct</th>\n",
       "    </tr>\n",
       "  </thead>\n",
       "  <tbody>\n",
       "    <tr>\n",
       "      <th>0</th>\n",
       "      <td>What is data science?</td>\n",
       "      <td>a: The study of animals in their natural habit...</td>\n",
       "      <td>b</td>\n",
       "    </tr>\n",
       "    <tr>\n",
       "      <th>1</th>\n",
       "      <td>Which type of data analysis examines data to g...</td>\n",
       "      <td>a: Diagnostic analysis | b: Predictive analysi...</td>\n",
       "      <td>c</td>\n",
       "    </tr>\n",
       "    <tr>\n",
       "      <th>2</th>\n",
       "      <td>What does prescriptive analytics do?</td>\n",
       "      <td>a: Predicts what is likely to happen | b: Sugg...</td>\n",
       "      <td>b</td>\n",
       "    </tr>\n",
       "    <tr>\n",
       "      <th>3</th>\n",
       "      <td>What is one benefit of data science for busine...</td>\n",
       "      <td>a: Increasing customer complaints | b: Reducin...</td>\n",
       "      <td>c</td>\n",
       "    </tr>\n",
       "    <tr>\n",
       "      <th>4</th>\n",
       "      <td>How can data science help companies respond to...</td>\n",
       "      <td>a: By predicting change and reacting optimally...</td>\n",
       "      <td>a</td>\n",
       "    </tr>\n",
       "  </tbody>\n",
       "</table>\n",
       "</div>"
      ],
      "text/plain": [
       "                                                 MCQ  \\\n",
       "0                              What is data science?   \n",
       "1  Which type of data analysis examines data to g...   \n",
       "2               What does prescriptive analytics do?   \n",
       "3  What is one benefit of data science for busine...   \n",
       "4  How can data science help companies respond to...   \n",
       "\n",
       "                                             Choices Correct  \n",
       "0  a: The study of animals in their natural habit...       b  \n",
       "1  a: Diagnostic analysis | b: Predictive analysi...       c  \n",
       "2  a: Predicts what is likely to happen | b: Sugg...       b  \n",
       "3  a: Increasing customer complaints | b: Reducin...       c  \n",
       "4  a: By predicting change and reacting optimally...       a  "
      ]
     },
     "execution_count": 56,
     "metadata": {},
     "output_type": "execute_result"
    }
   ],
   "source": [
    "quiz"
   ]
  },
  {
   "cell_type": "code",
   "execution_count": 57,
   "id": "6c09b24a-2a16-473c-b668-c8facb6beac3",
   "metadata": {},
   "outputs": [],
   "source": [
    "quiz.to_csv(\"../dataset/output/data_science.csv\", index=False)"
   ]
  },
  {
   "cell_type": "code",
   "execution_count": null,
   "id": "1aa1fd4d-fd07-4e62-a0a2-13ff7c9ea42e",
   "metadata": {},
   "outputs": [],
   "source": []
  }
 ],
 "metadata": {
  "kernelspec": {
   "display_name": "Python 3 (ipykernel)",
   "language": "python",
   "name": "python3"
  },
  "language_info": {
   "codemirror_mode": {
    "name": "ipython",
    "version": 3
   },
   "file_extension": ".py",
   "mimetype": "text/x-python",
   "name": "python",
   "nbconvert_exporter": "python",
   "pygments_lexer": "ipython3",
   "version": "3.10.14"
  }
 },
 "nbformat": 4,
 "nbformat_minor": 5
}
