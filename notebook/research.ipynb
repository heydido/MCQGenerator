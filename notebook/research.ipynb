{
 "cells": [
  {
   "cell_type": "code",
   "id": "initial_id",
   "metadata": {
    "ExecuteTime": {
     "end_time": "2024-06-17T19:14:09.667683Z",
     "start_time": "2024-06-17T19:14:09.636431Z"
    }
   },
   "source": [
    "import os\n",
    "import json\n",
    "import pandas as pd\n",
    "\n",
    "import warnings\n",
    "warnings.filterwarnings(\"ignore\")"
   ],
   "outputs": [],
   "execution_count": 65
  },
  {
   "cell_type": "code",
   "id": "2d559a25-76de-4416-a256-ff0440f2bd6d",
   "metadata": {
    "ExecuteTime": {
     "end_time": "2024-06-17T19:14:09.745808Z",
     "start_time": "2024-06-17T19:14:09.714595Z"
    }
   },
   "source": [
    "from dotenv import load_dotenv\n",
    "\n",
    "load_dotenv()  # take environment variables from .env."
   ],
   "outputs": [
    {
     "data": {
      "text/plain": [
       "True"
      ]
     },
     "execution_count": 66,
     "metadata": {},
     "output_type": "execute_result"
    }
   ],
   "execution_count": 66
  },
  {
   "cell_type": "code",
   "id": "b9af621a-d50d-4dc4-bcf6-49024e807ccb",
   "metadata": {
    "ExecuteTime": {
     "end_time": "2024-06-17T19:14:09.902055Z",
     "start_time": "2024-06-17T19:14:09.886432Z"
    }
   },
   "source": [
    "from langchain.chat_models import ChatOpenAI"
   ],
   "outputs": [],
   "execution_count": 67
  },
  {
   "cell_type": "code",
   "id": "016d6143-5caa-4422-ae75-beed7c1a664c",
   "metadata": {
    "ExecuteTime": {
     "end_time": "2024-06-17T19:14:09.948927Z",
     "start_time": "2024-06-17T19:14:09.917684Z"
    }
   },
   "source": [
    "KEY = os.getenv(\"OPENAI_API_KEY\")"
   ],
   "outputs": [],
   "execution_count": 68
  },
  {
   "cell_type": "code",
   "id": "58fa4d4b-711b-485c-9461-53bb3e29eb08",
   "metadata": {
    "ExecuteTime": {
     "end_time": "2024-06-17T19:14:11.716182Z",
     "start_time": "2024-06-17T19:14:10.042679Z"
    }
   },
   "source": "llm = ChatOpenAI(openai_api_key=KEY, model_name=\"gpt-3.5-turbo\", temperature=0.5)",
   "outputs": [],
   "execution_count": 69
  },
  {
   "cell_type": "code",
   "id": "85893c47-3959-4bb3-9aff-099cc3e3311c",
   "metadata": {
    "ExecuteTime": {
     "end_time": "2024-06-17T19:14:11.731806Z",
     "start_time": "2024-06-17T19:14:11.716182Z"
    }
   },
   "source": [],
   "outputs": [],
   "execution_count": 69
  },
  {
   "cell_type": "code",
   "id": "a43973aa-1f82-4595-86e4-d380c0d0c83b",
   "metadata": {
    "ExecuteTime": {
     "end_time": "2024-06-17T19:14:11.747429Z",
     "start_time": "2024-06-17T19:14:11.731806Z"
    }
   },
   "source": [
    "from langchain.prompts import PromptTemplate\n",
    "from langchain.chains import LLMChain\n",
    "from langchain.chains import SequentialChain\n",
    "from langchain.callbacks import get_openai_callback"
   ],
   "outputs": [],
   "execution_count": 70
  },
  {
   "cell_type": "code",
   "id": "b575b3b5-a6f0-48ff-8c5d-1a1f58ec1b28",
   "metadata": {
    "ExecuteTime": {
     "end_time": "2024-06-17T19:14:11.778678Z",
     "start_time": "2024-06-17T19:14:11.747429Z"
    }
   },
   "source": [
    "RESPONSE_JSON = {\n",
    "    \"1\": {\n",
    "        \"MCQ\": \"multiple choice question\",\n",
    "        \"Options\": {\n",
    "            \"a\": \"choice here\",\n",
    "            \"b\": \"choice here\",\n",
    "            \"c\": \"choice here\",\n",
    "            \"d\": \"choice here\",\n",
    "        },\n",
    "        \"Correct\": \"correct answer\",\n",
    "    },\n",
    "    \"2\": {\n",
    "        \"MCQ\": \"multiple choice question\",\n",
    "        \"Options\": {\n",
    "            \"a\": \"choice here\",\n",
    "            \"b\": \"choice here\",\n",
    "            \"c\": \"choice here\",\n",
    "            \"d\": \"choice here\",\n",
    "        },\n",
    "        \"Correct\": \"correct answer\",\n",
    "    },\n",
    "    \"3\": {\n",
    "        \"MCQ\": \"multiple choice question\",\n",
    "        \"Options\": {\n",
    "            \"a\": \"choice here\",\n",
    "            \"b\": \"choice here\",\n",
    "            \"c\": \"choice here\",\n",
    "            \"d\": \"choice here\",\n",
    "        },\n",
    "        \"Correct\": \"correct answer\",\n",
    "    }\n",
    "}"
   ],
   "outputs": [],
   "execution_count": 71
  },
  {
   "cell_type": "code",
   "id": "111f72b8-a27a-4082-8b61-c11a7b98986a",
   "metadata": {
    "ExecuteTime": {
     "end_time": "2024-06-17T19:14:11.809929Z",
     "start_time": "2024-06-17T19:14:11.778678Z"
    }
   },
   "source": [
    "QUIZ_GENERATION_TEMPLATE = \"\"\"\n",
    "    Text: {text}\n",
    "    You are an expert MCQ generator. Given the above text, it is your job to create a quiz of {num_questions} multiple choice questions for {subject} students in {tone} tone. \n",
    "    Make sure of the following: (1) The questions are not repeated, and check all the questions to be conforming the text as well, (2) Use RESPONSE_JSON defined below as a guide to format your response, and (3) create {num_questions} MCQs.\n",
    "    \n",
    "    ### RESPONSE_JSON\n",
    "    {response_json}\n",
    "\"\"\""
   ],
   "outputs": [],
   "execution_count": 72
  },
  {
   "cell_type": "code",
   "id": "8ae22679-1bdf-4c7b-b856-878e77248cbc",
   "metadata": {
    "ExecuteTime": {
     "end_time": "2024-06-17T19:14:11.825555Z",
     "start_time": "2024-06-17T19:14:11.809929Z"
    }
   },
   "source": [
    "quiz_generation_prompt = PromptTemplate(\n",
    "    input_variables=[\"text\", \"num_questions\", \"subject\", \"tone\", \"response_json\"],\n",
    "    template=QUIZ_GENERATION_TEMPLATE\n",
    ")"
   ],
   "outputs": [],
   "execution_count": 73
  },
  {
   "cell_type": "code",
   "id": "462b74da-4e36-4469-8c64-4279e50028f5",
   "metadata": {
    "ExecuteTime": {
     "end_time": "2024-06-17T19:14:11.856806Z",
     "start_time": "2024-06-17T19:14:11.825555Z"
    }
   },
   "source": [
    "quiz_chain = LLMChain(llm=llm, prompt=quiz_generation_prompt, output_key=\"quiz\", verbose=True)"
   ],
   "outputs": [],
   "execution_count": 74
  },
  {
   "cell_type": "code",
   "id": "92db70d0-af59-4a78-99ea-7d81468c339d",
   "metadata": {
    "ExecuteTime": {
     "end_time": "2024-06-17T19:14:11.872430Z",
     "start_time": "2024-06-17T19:14:11.856806Z"
    }
   },
   "source": [
    "QUIZ_EVALUATION_TEMPLATE = \"\"\"\n",
    "    You are an expert English grammarian and writer. Given a Multiple Choice Quiz for {subject} students,\n",
    "    You need to evaluate the complexity of the question and give a complete analysis of the quiz. Use only a max of 50 words for complexity analysis. \n",
    "    If the quiz is not at par with the cognitive and analytical abilities of the students, update the quiz questions that need to be changed, and change the tone such that it perfectly fits the student's abilities\n",
    "    \n",
    "    Here is the quiz you need to evaluate:\n",
    "    \n",
    "    Quiz_MCQs:\n",
    "    {quiz}\n",
    "\"\"\""
   ],
   "outputs": [],
   "execution_count": 75
  },
  {
   "cell_type": "code",
   "id": "e09f8f5f-e48e-45a3-ab27-3319ca7dafe8",
   "metadata": {
    "ExecuteTime": {
     "end_time": "2024-06-17T19:14:11.903681Z",
     "start_time": "2024-06-17T19:14:11.872430Z"
    }
   },
   "source": [
    "quiz_evaluation_prompt = PromptTemplate(\n",
    "    input_variables=[\"subject\", \"quiz\"], \n",
    "    template=QUIZ_EVALUATION_TEMPLATE\n",
    ")"
   ],
   "outputs": [],
   "execution_count": 76
  },
  {
   "cell_type": "code",
   "id": "09ea31af-36e4-4511-8480-50b39bc4a5e5",
   "metadata": {
    "ExecuteTime": {
     "end_time": "2024-06-17T19:14:11.934930Z",
     "start_time": "2024-06-17T19:14:11.903681Z"
    }
   },
   "source": [
    "review_chain = LLMChain(llm=llm, prompt=quiz_evaluation_prompt, output_key=\"review\", verbose=True)"
   ],
   "outputs": [],
   "execution_count": 77
  },
  {
   "cell_type": "code",
   "id": "0604da3f-460c-43c1-8845-e5802d01343d",
   "metadata": {
    "ExecuteTime": {
     "end_time": "2024-06-17T19:14:11.966182Z",
     "start_time": "2024-06-17T19:14:11.934930Z"
    }
   },
   "source": [
    "generate_evaluate_chain = SequentialChain(\n",
    "    chains=[quiz_chain, review_chain], \n",
    "    input_variables=[\"text\", \"num_questions\", \"subject\", \"tone\", \"response_json\"],\n",
    "    output_variables=[\"quiz\", \"review\"], \n",
    "    verbose=True\n",
    ")"
   ],
   "outputs": [],
   "execution_count": 78
  },
  {
   "cell_type": "code",
   "id": "aa4c33f3-acdd-4418-8895-ad56e81f3f88",
   "metadata": {
    "ExecuteTime": {
     "end_time": "2024-06-17T19:14:11.997450Z",
     "start_time": "2024-06-17T19:14:11.966182Z"
    }
   },
   "source": "data_science = \"../dataset/input/data_science.txt\"",
   "outputs": [],
   "execution_count": 79
  },
  {
   "cell_type": "code",
   "id": "2bd53a92-7909-4ff9-a95c-2a76e6164b06",
   "metadata": {
    "ExecuteTime": {
     "end_time": "2024-06-17T19:14:12.028683Z",
     "start_time": "2024-06-17T19:14:11.997450Z"
    }
   },
   "source": [
    "with open(data_science, 'r') as file:\n",
    "    TEXT = file.read()"
   ],
   "outputs": [],
   "execution_count": 80
  },
  {
   "cell_type": "code",
   "id": "25d66405-96df-4b6e-9a10-fa55685e2a25",
   "metadata": {
    "ExecuteTime": {
     "end_time": "2024-06-17T19:14:12.044306Z",
     "start_time": "2024-06-17T19:14:12.028683Z"
    }
   },
   "source": [
    "print(TEXT)"
   ],
   "outputs": [
    {
     "name": "stdout",
     "output_type": "stream",
     "text": [
      "What is data science?\n",
      "Data science is the study of data to extract meaningful insights for business. It is a multidisciplinary approach that combines principles and practices from the fields of mathematics, statistics, artificial intelligence, and computer engineering to analyze large amounts of data. This analysis helps data scientists to ask and answer questions like what happened, why it happened, what will happen, and what can be done with the results.\n",
      "\n",
      "Why is data science important?\n",
      "Data science is important because it combines tools, methods, and technology to generate meaning from data. Modern organizations are inundated with data; there is a proliferation of devices that can automatically collect and store information. Online systems and payment portals capture more data in the fields of e-commerce, medicine, finance, and every other aspect of human life. We have text, audio, video, and image data available in vast quantities.  \n",
      "\n",
      "History of data science\n",
      "While the term data science is not new, the meanings and connotations have changed over time. The word first appeared in the â€™60s as an alternative name for statistics. In the late â€™90s, computer science professionals formalized the term. A proposed definition for data science saw it as a separate field with three aspects: data design, collection, and analysis. It still took another decade for the term to be used outside of academia. \n",
      "\n",
      "Future of data science\n",
      "Artificial intelligence and machine learning innovations have made data processing faster and more efficient. Industry demand has created an ecosystem of courses, degrees, and job positions within the field of data science. Because of the cross-functional skillset and expertise required, data science shows strong projected growth over the coming decades.\n",
      "\n",
      "What is data science used for?\n",
      "Data science is used to study data in four main ways:\n",
      "\n",
      "1. Descriptive analysis\n",
      "Descriptive analysis examines data to gain insights into what happened or what is happening in the data environment. It is characterized by data visualizations such as pie charts, bar charts, line graphs, tables, or generated narratives. For example, a flight booking service may record data like the number of tickets booked each day. Descriptive analysis will reveal booking spikes, booking slumps, and high-performing months for this service.\n",
      "\n",
      "2. Diagnostic analysis\n",
      "Diagnostic analysis is a deep-dive or detailed data examination to understand why something happened. It is characterized by techniques such as drill-down, data discovery, data mining, and correlations. Multiple data operations and transformations may be performed on a given data set to discover unique patterns in each of these techniques.For example, the flight service might drill down on a particularly high-performing month to better understand the booking spike. This may lead to the discovery that many customers visit a particular city to attend a monthly sporting event.\n",
      "\n",
      "3. Predictive analysis\n",
      "Predictive analysis uses historical data to make accurate forecasts about data patterns that may occur in the future. It is characterized by techniques such as machine learning, forecasting, pattern matching, and predictive modeling. In each of these techniques, computers are trained to reverse engineer causality connections in the data.For example, the flight service team might use data science to predict flight booking patterns for the coming year at the start of each year. The computer program or algorithm may look at past data and predict booking spikes for certain destinations in May. Having anticipated their customerâ€™s future travel requirements, the company could start targeted advertising for those cities from February.\n",
      "\n",
      "4. Prescriptive analysis\n",
      "Prescriptive analytics takes predictive data to the next level. It not only predicts what is likely to happen but also suggests an optimum response to that outcome. It can analyze the potential implications of different choices and recommend the best course of action. It uses graph analysis, simulation, complex event processing, neural networks, and recommendation engines from machine learning.         \n",
      "\n",
      "Back to the flight booking example, prescriptive analysis could look at historical marketing campaigns to maximize the advantage of the upcoming booking spike. A data scientist could project booking outcomes for different levels of marketing spend on various marketing channels. These data forecasts would give the flight booking company greater confidence in their marketing decisions.\n",
      "\n",
      "What are the benefits of data science for business?\n",
      "Data science is revolutionizing the way companies operate. Many businesses, regardless of size, need a robust data science strategy to drive growth and maintain a competitive edge. Some key benefits include:\n",
      "\n",
      "Discover unknown transformative patterns\n",
      "Data science allows businesses to uncover new patterns and relationships that have the potential to transform the organization. It can reveal low-cost changes to resource management for maximum impact on profit margins.For example, an e-commerce company uses data science to discover that too many customer queries are being generated after business hours. Investigations reveal that customers are more likely to purchase if they receive a prompt response instead of an answer the next business day. By implementing 24/7 customer service, the business grows its revenue by 30%.\n",
      "\n",
      "Innovate new products and solutions\n",
      "Data science can reveal gaps and problems that would otherwise go unnoticed. Greater insight about purchase decisions, customer feedback, and business processes can drive innovation in internal operations and external solutions.For example, an online payment solution uses data science to collate and analyze customer comments about the company on social media. Analysis reveals that customers forget passwords during peak purchase periods and are unhappy with the current password retrieval system. The company can innovate a better solution and see a significant increase in customer satisfaction.\n",
      "\n",
      "Real-time optimization\n",
      "Itâ€™s very challenging for businesses, especially large-scale enterprises, to respond to changing conditions in real-time. This can cause significant losses or disruptions in business activity. Data science can help companies predict change and react optimally to different circumstances.For example, a truck-based shipping company uses data science to reduce downtime when trucks break down. They identify the routes and shift patterns that lead to faster breakdowns and tweak truck schedules. They also set up an inventory of common spare parts that need frequent replacement so trucks can be repaired faster.\n",
      "\n"
     ]
    }
   ],
   "execution_count": 81
  },
  {
   "cell_type": "code",
   "id": "8daf1f94-0e6b-4afd-b768-71a7733f9e51",
   "metadata": {
    "ExecuteTime": {
     "end_time": "2024-06-17T19:14:12.059931Z",
     "start_time": "2024-06-17T19:14:12.044306Z"
    }
   },
   "source": [],
   "outputs": [],
   "execution_count": 81
  },
  {
   "cell_type": "code",
   "id": "4e990287-2568-4cac-a744-860a9f92d2ce",
   "metadata": {
    "ExecuteTime": {
     "end_time": "2024-06-17T19:14:12.091186Z",
     "start_time": "2024-06-17T19:14:12.059931Z"
    }
   },
   "source": [
    "NUM_QUESTIONS = 5 \n",
    "SUBJECT = \"Data Science\"\n",
    "TONE = \"Simple\""
   ],
   "outputs": [],
   "execution_count": 82
  },
  {
   "cell_type": "code",
   "id": "f0a1855e-6334-4993-9f76-028ca99432b0",
   "metadata": {
    "ExecuteTime": {
     "end_time": "2024-06-17T19:14:23.608328Z",
     "start_time": "2024-06-17T19:14:12.091186Z"
    }
   },
   "source": [
    "# Setup Token Usage Tracking in LangChain\n",
    "with get_openai_callback() as cb:\n",
    "    response = generate_evaluate_chain(\n",
    "        {\n",
    "            \"text\": TEXT,\n",
    "            \"num_questions\": NUM_QUESTIONS,\n",
    "            \"subject\": SUBJECT,\n",
    "            \"tone\": TONE,\n",
    "            \"response_json\": json.dumps(RESPONSE_JSON)\n",
    "        }\n",
    "    )"
   ],
   "outputs": [
    {
     "name": "stdout",
     "output_type": "stream",
     "text": [
      "\n",
      "\n",
      "\u001B[1m> Entering new SequentialChain chain...\u001B[0m\n",
      "\n",
      "\n",
      "\u001B[1m> Entering new LLMChain chain...\u001B[0m\n",
      "Prompt after formatting:\n",
      "\u001B[32;1m\u001B[1;3m\n",
      "    Text: What is data science?\n",
      "Data science is the study of data to extract meaningful insights for business. It is a multidisciplinary approach that combines principles and practices from the fields of mathematics, statistics, artificial intelligence, and computer engineering to analyze large amounts of data. This analysis helps data scientists to ask and answer questions like what happened, why it happened, what will happen, and what can be done with the results.\n",
      "\n",
      "Why is data science important?\n",
      "Data science is important because it combines tools, methods, and technology to generate meaning from data. Modern organizations are inundated with data; there is a proliferation of devices that can automatically collect and store information. Online systems and payment portals capture more data in the fields of e-commerce, medicine, finance, and every other aspect of human life. We have text, audio, video, and image data available in vast quantities.  \n",
      "\n",
      "History of data science\n",
      "While the term data science is not new, the meanings and connotations have changed over time. The word first appeared in the â€™60s as an alternative name for statistics. In the late â€™90s, computer science professionals formalized the term. A proposed definition for data science saw it as a separate field with three aspects: data design, collection, and analysis. It still took another decade for the term to be used outside of academia. \n",
      "\n",
      "Future of data science\n",
      "Artificial intelligence and machine learning innovations have made data processing faster and more efficient. Industry demand has created an ecosystem of courses, degrees, and job positions within the field of data science. Because of the cross-functional skillset and expertise required, data science shows strong projected growth over the coming decades.\n",
      "\n",
      "What is data science used for?\n",
      "Data science is used to study data in four main ways:\n",
      "\n",
      "1. Descriptive analysis\n",
      "Descriptive analysis examines data to gain insights into what happened or what is happening in the data environment. It is characterized by data visualizations such as pie charts, bar charts, line graphs, tables, or generated narratives. For example, a flight booking service may record data like the number of tickets booked each day. Descriptive analysis will reveal booking spikes, booking slumps, and high-performing months for this service.\n",
      "\n",
      "2. Diagnostic analysis\n",
      "Diagnostic analysis is a deep-dive or detailed data examination to understand why something happened. It is characterized by techniques such as drill-down, data discovery, data mining, and correlations. Multiple data operations and transformations may be performed on a given data set to discover unique patterns in each of these techniques.For example, the flight service might drill down on a particularly high-performing month to better understand the booking spike. This may lead to the discovery that many customers visit a particular city to attend a monthly sporting event.\n",
      "\n",
      "3. Predictive analysis\n",
      "Predictive analysis uses historical data to make accurate forecasts about data patterns that may occur in the future. It is characterized by techniques such as machine learning, forecasting, pattern matching, and predictive modeling. In each of these techniques, computers are trained to reverse engineer causality connections in the data.For example, the flight service team might use data science to predict flight booking patterns for the coming year at the start of each year. The computer program or algorithm may look at past data and predict booking spikes for certain destinations in May. Having anticipated their customerâ€™s future travel requirements, the company could start targeted advertising for those cities from February.\n",
      "\n",
      "4. Prescriptive analysis\n",
      "Prescriptive analytics takes predictive data to the next level. It not only predicts what is likely to happen but also suggests an optimum response to that outcome. It can analyze the potential implications of different choices and recommend the best course of action. It uses graph analysis, simulation, complex event processing, neural networks, and recommendation engines from machine learning.         \n",
      "\n",
      "Back to the flight booking example, prescriptive analysis could look at historical marketing campaigns to maximize the advantage of the upcoming booking spike. A data scientist could project booking outcomes for different levels of marketing spend on various marketing channels. These data forecasts would give the flight booking company greater confidence in their marketing decisions.\n",
      "\n",
      "What are the benefits of data science for business?\n",
      "Data science is revolutionizing the way companies operate. Many businesses, regardless of size, need a robust data science strategy to drive growth and maintain a competitive edge. Some key benefits include:\n",
      "\n",
      "Discover unknown transformative patterns\n",
      "Data science allows businesses to uncover new patterns and relationships that have the potential to transform the organization. It can reveal low-cost changes to resource management for maximum impact on profit margins.For example, an e-commerce company uses data science to discover that too many customer queries are being generated after business hours. Investigations reveal that customers are more likely to purchase if they receive a prompt response instead of an answer the next business day. By implementing 24/7 customer service, the business grows its revenue by 30%.\n",
      "\n",
      "Innovate new products and solutions\n",
      "Data science can reveal gaps and problems that would otherwise go unnoticed. Greater insight about purchase decisions, customer feedback, and business processes can drive innovation in internal operations and external solutions.For example, an online payment solution uses data science to collate and analyze customer comments about the company on social media. Analysis reveals that customers forget passwords during peak purchase periods and are unhappy with the current password retrieval system. The company can innovate a better solution and see a significant increase in customer satisfaction.\n",
      "\n",
      "Real-time optimization\n",
      "Itâ€™s very challenging for businesses, especially large-scale enterprises, to respond to changing conditions in real-time. This can cause significant losses or disruptions in business activity. Data science can help companies predict change and react optimally to different circumstances.For example, a truck-based shipping company uses data science to reduce downtime when trucks break down. They identify the routes and shift patterns that lead to faster breakdowns and tweak truck schedules. They also set up an inventory of common spare parts that need frequent replacement so trucks can be repaired faster.\n",
      "\n",
      "    You are an expert MCQ generator. Given the above text, it is your job to create a quiz of 5 multiple choice questions for Data Science students in Simple tone. \n",
      "    Make sure of the following: (1) The questions are not repeated, and check all the questions to be conforming the text as well, (2) Use RESPONSE_JSON defined below as a guide to format your response, and (3) create 5 MCQs.\n",
      "    \n",
      "    ### RESPONSE_JSON\n",
      "    {\"1\": {\"MCQ\": \"multiple choice question\", \"Options\": {\"a\": \"choice here\", \"b\": \"choice here\", \"c\": \"choice here\", \"d\": \"choice here\"}, \"Correct\": \"correct answer\"}, \"2\": {\"MCQ\": \"multiple choice question\", \"Options\": {\"a\": \"choice here\", \"b\": \"choice here\", \"c\": \"choice here\", \"d\": \"choice here\"}, \"Correct\": \"correct answer\"}, \"3\": {\"MCQ\": \"multiple choice question\", \"Options\": {\"a\": \"choice here\", \"b\": \"choice here\", \"c\": \"choice here\", \"d\": \"choice here\"}, \"Correct\": \"correct answer\"}}\n",
      "\u001B[0m\n",
      "\n",
      "\u001B[1m> Finished chain.\u001B[0m\n",
      "\n",
      "\n",
      "\u001B[1m> Entering new LLMChain chain...\u001B[0m\n",
      "Prompt after formatting:\n",
      "\u001B[32;1m\u001B[1;3m\n",
      "    You are an expert English grammarian and writer. Given a Multiple Choice Quiz for Data Science students,\n",
      "    You need to evaluate the complexity of the question and give a complete analysis of the quiz. Use only a max of 50 words for complexity analysis. \n",
      "    If the quiz is not at par with the cognitive and analytical abilities of the students, update the quiz questions that need to be changed, and change the tone such that it perfectly fits the student's abilities\n",
      "    \n",
      "    Here is the quiz you need to evaluate:\n",
      "    \n",
      "    Quiz_MCQs:\n",
      "    {\n",
      "    \"1\": {\n",
      "        \"MCQ\": \"What is data science primarily used for?\",\n",
      "        \"Options\": {\n",
      "            \"a\": \"Studying history\",\n",
      "            \"b\": \"Extracting insights from data for business\",\n",
      "            \"c\": \"Creating art\",\n",
      "            \"d\": \"Building websites\"\n",
      "        },\n",
      "        \"Correct\": \"b\"\n",
      "    },\n",
      "    \"2\": {\n",
      "        \"MCQ\": \"Which type of data analysis examines data to understand why something happened?\",\n",
      "        \"Options\": {\n",
      "            \"a\": \"Descriptive analysis\",\n",
      "            \"b\": \"Diagnostic analysis\",\n",
      "            \"c\": \"Predictive analysis\",\n",
      "            \"d\": \"Prescriptive analysis\"\n",
      "        },\n",
      "        \"Correct\": \"b\"\n",
      "    },\n",
      "    \"3\": {\n",
      "        \"MCQ\": \"What does prescriptive analysis do?\",\n",
      "        \"Options\": {\n",
      "            \"a\": \"Predicts future data patterns\",\n",
      "            \"b\": \"Analyzes past data\",\n",
      "            \"c\": \"Recommends the best course of action\",\n",
      "            \"d\": \"Creates data visualizations\"\n",
      "        },\n",
      "        \"Correct\": \"c\"\n",
      "    },\n",
      "    \"4\": {\n",
      "        \"MCQ\": \"What is one benefit of data science for businesses?\",\n",
      "        \"Options\": {\n",
      "            \"a\": \"Causes disruptions in business activity\",\n",
      "            \"b\": \"Reduces revenue\",\n",
      "            \"c\": \"Allows for real-time optimization\",\n",
      "            \"d\": \"Increases customer complaints\"\n",
      "        },\n",
      "        \"Correct\": \"c\"\n",
      "    },\n",
      "    \"5\": {\n",
      "        \"MCQ\": \"How can data science help companies innovate?\",\n",
      "        \"Options\": {\n",
      "            \"a\": \"By ignoring customer feedback\",\n",
      "            \"b\": \"By uncovering new patterns and relationships\",\n",
      "            \"c\": \"By sticking to traditional methods\",\n",
      "            \"d\": \"By avoiding data analysis\"\n",
      "        },\n",
      "        \"Correct\": \"b\"\n",
      "    }\n",
      "}\n",
      "\u001B[0m\n",
      "\n",
      "\u001B[1m> Finished chain.\u001B[0m\n",
      "\n",
      "\u001B[1m> Finished chain.\u001B[0m\n"
     ]
    }
   ],
   "execution_count": 83
  },
  {
   "cell_type": "code",
   "id": "075b64f8-09de-4029-886f-9e86943745f1",
   "metadata": {
    "ExecuteTime": {
     "end_time": "2024-06-17T19:14:23.638998Z",
     "start_time": "2024-06-17T19:14:23.608328Z"
    }
   },
   "source": [
    "print(f\"Total Tokens: {cb.total_tokens}\")\n",
    "print(f\"Prompt Tokens: {cb.prompt_tokens}\")\n",
    "print(f\"Completion Tokens: {cb.completion_tokens}\")\n",
    "print(f\"Total Cost: ${cb.total_cost}\")"
   ],
   "outputs": [
    {
     "name": "stdout",
     "output_type": "stream",
     "text": [
      "Total Tokens: 2451\n",
      "Prompt Tokens: 1953\n",
      "Completion Tokens: 498\n",
      "Total Cost: $0.0039255\n"
     ]
    }
   ],
   "execution_count": 84
  },
  {
   "metadata": {
    "ExecuteTime": {
     "end_time": "2024-06-17T19:14:23.654580Z",
     "start_time": "2024-06-17T19:14:23.638998Z"
    }
   },
   "cell_type": "code",
   "source": "print(response)",
   "id": "41ad6f8b4f52f535",
   "outputs": [
    {
     "name": "stdout",
     "output_type": "stream",
     "text": [
      "{'text': 'What is data science?\\nData science is the study of data to extract meaningful insights for business. It is a multidisciplinary approach that combines principles and practices from the fields of mathematics, statistics, artificial intelligence, and computer engineering to analyze large amounts of data. This analysis helps data scientists to ask and answer questions like what happened, why it happened, what will happen, and what can be done with the results.\\n\\nWhy is data science important?\\nData science is important because it combines tools, methods, and technology to generate meaning from data. Modern organizations are inundated with data; there is a proliferation of devices that can automatically collect and store information. Online systems and payment portals capture more data in the fields of e-commerce, medicine, finance, and every other aspect of human life. We have text, audio, video, and image data available in vast quantities.  \\n\\nHistory of data science\\nWhile the term data science is not new, the meanings and connotations have changed over time. The word first appeared in the â€™60s as an alternative name for statistics. In the late â€™90s, computer science professionals formalized the term. A proposed definition for data science saw it as a separate field with three aspects: data design, collection, and analysis. It still took another decade for the term to be used outside of academia. \\n\\nFuture of data science\\nArtificial intelligence and machine learning innovations have made data processing faster and more efficient. Industry demand has created an ecosystem of courses, degrees, and job positions within the field of data science. Because of the cross-functional skillset and expertise required, data science shows strong projected growth over the coming decades.\\n\\nWhat is data science used for?\\nData science is used to study data in four main ways:\\n\\n1. Descriptive analysis\\nDescriptive analysis examines data to gain insights into what happened or what is happening in the data environment. It is characterized by data visualizations such as pie charts, bar charts, line graphs, tables, or generated narratives. For example, a flight booking service may record data like the number of tickets booked each day. Descriptive analysis will reveal booking spikes, booking slumps, and high-performing months for this service.\\n\\n2. Diagnostic analysis\\nDiagnostic analysis is a deep-dive or detailed data examination to understand why something happened. It is characterized by techniques such as drill-down, data discovery, data mining, and correlations. Multiple data operations and transformations may be performed on a given data set to discover unique patterns in each of these techniques.For example, the flight service might drill down on a particularly high-performing month to better understand the booking spike. This may lead to the discovery that many customers visit a particular city to attend a monthly sporting event.\\n\\n3. Predictive analysis\\nPredictive analysis uses historical data to make accurate forecasts about data patterns that may occur in the future. It is characterized by techniques such as machine learning, forecasting, pattern matching, and predictive modeling. In each of these techniques, computers are trained to reverse engineer causality connections in the data.For example, the flight service team might use data science to predict flight booking patterns for the coming year at the start of each year. The computer program or algorithm may look at past data and predict booking spikes for certain destinations in May. Having anticipated their customerâ€™s future travel requirements, the company could start targeted advertising for those cities from February.\\n\\n4. Prescriptive analysis\\nPrescriptive analytics takes predictive data to the next level. It not only predicts what is likely to happen but also suggests an optimum response to that outcome. It can analyze the potential implications of different choices and recommend the best course of action. It uses graph analysis, simulation, complex event processing, neural networks, and recommendation engines from machine learning.         \\n\\nBack to the flight booking example, prescriptive analysis could look at historical marketing campaigns to maximize the advantage of the upcoming booking spike. A data scientist could project booking outcomes for different levels of marketing spend on various marketing channels. These data forecasts would give the flight booking company greater confidence in their marketing decisions.\\n\\nWhat are the benefits of data science for business?\\nData science is revolutionizing the way companies operate. Many businesses, regardless of size, need a robust data science strategy to drive growth and maintain a competitive edge. Some key benefits include:\\n\\nDiscover unknown transformative patterns\\nData science allows businesses to uncover new patterns and relationships that have the potential to transform the organization. It can reveal low-cost changes to resource management for maximum impact on profit margins.For example, an e-commerce company uses data science to discover that too many customer queries are being generated after business hours. Investigations reveal that customers are more likely to purchase if they receive a prompt response instead of an answer the next business day. By implementing 24/7 customer service, the business grows its revenue by 30%.\\n\\nInnovate new products and solutions\\nData science can reveal gaps and problems that would otherwise go unnoticed. Greater insight about purchase decisions, customer feedback, and business processes can drive innovation in internal operations and external solutions.For example, an online payment solution uses data science to collate and analyze customer comments about the company on social media. Analysis reveals that customers forget passwords during peak purchase periods and are unhappy with the current password retrieval system. The company can innovate a better solution and see a significant increase in customer satisfaction.\\n\\nReal-time optimization\\nItâ€™s very challenging for businesses, especially large-scale enterprises, to respond to changing conditions in real-time. This can cause significant losses or disruptions in business activity. Data science can help companies predict change and react optimally to different circumstances.For example, a truck-based shipping company uses data science to reduce downtime when trucks break down. They identify the routes and shift patterns that lead to faster breakdowns and tweak truck schedules. They also set up an inventory of common spare parts that need frequent replacement so trucks can be repaired faster.\\n', 'num_questions': 5, 'subject': 'Data Science', 'tone': 'Simple', 'response_json': '{\"1\": {\"MCQ\": \"multiple choice question\", \"Options\": {\"a\": \"choice here\", \"b\": \"choice here\", \"c\": \"choice here\", \"d\": \"choice here\"}, \"Correct\": \"correct answer\"}, \"2\": {\"MCQ\": \"multiple choice question\", \"Options\": {\"a\": \"choice here\", \"b\": \"choice here\", \"c\": \"choice here\", \"d\": \"choice here\"}, \"Correct\": \"correct answer\"}, \"3\": {\"MCQ\": \"multiple choice question\", \"Options\": {\"a\": \"choice here\", \"b\": \"choice here\", \"c\": \"choice here\", \"d\": \"choice here\"}, \"Correct\": \"correct answer\"}}', 'quiz': '{\\n    \"1\": {\\n        \"MCQ\": \"What is data science primarily used for?\",\\n        \"Options\": {\\n            \"a\": \"Studying history\",\\n            \"b\": \"Extracting insights from data for business\",\\n            \"c\": \"Creating art\",\\n            \"d\": \"Building websites\"\\n        },\\n        \"Correct\": \"b\"\\n    },\\n    \"2\": {\\n        \"MCQ\": \"Which type of data analysis examines data to understand why something happened?\",\\n        \"Options\": {\\n            \"a\": \"Descriptive analysis\",\\n            \"b\": \"Diagnostic analysis\",\\n            \"c\": \"Predictive analysis\",\\n            \"d\": \"Prescriptive analysis\"\\n        },\\n        \"Correct\": \"b\"\\n    },\\n    \"3\": {\\n        \"MCQ\": \"What does prescriptive analysis do?\",\\n        \"Options\": {\\n            \"a\": \"Predicts future data patterns\",\\n            \"b\": \"Analyzes past data\",\\n            \"c\": \"Recommends the best course of action\",\\n            \"d\": \"Creates data visualizations\"\\n        },\\n        \"Correct\": \"c\"\\n    },\\n    \"4\": {\\n        \"MCQ\": \"What is one benefit of data science for businesses?\",\\n        \"Options\": {\\n            \"a\": \"Causes disruptions in business activity\",\\n            \"b\": \"Reduces revenue\",\\n            \"c\": \"Allows for real-time optimization\",\\n            \"d\": \"Increases customer complaints\"\\n        },\\n        \"Correct\": \"c\"\\n    },\\n    \"5\": {\\n        \"MCQ\": \"How can data science help companies innovate?\",\\n        \"Options\": {\\n            \"a\": \"By ignoring customer feedback\",\\n            \"b\": \"By uncovering new patterns and relationships\",\\n            \"c\": \"By sticking to traditional methods\",\\n            \"d\": \"By avoiding data analysis\"\\n        },\\n        \"Correct\": \"b\"\\n    }\\n}', 'review': 'Complexity Analysis:\\nThe quiz is suitable for data science students as it covers basic concepts such as the purpose of data science, types of data analysis, benefits for businesses, and innovation. The questions are clear and straightforward, requiring fundamental knowledge of data science concepts.\\n\\nSuggestions for Improvement:\\nConsider adding more in-depth questions that require critical thinking or practical application of data science principles. Additionally, include scenarios or case studies to enhance the practical understanding of data science concepts. Overall, the quiz can be enhanced by incorporating a variety of question types to assess different cognitive skills.'}\n"
     ]
    }
   ],
   "execution_count": 85
  },
  {
   "cell_type": "code",
   "id": "10053dd5-9dca-45f5-b65c-0ba5c615b6d2",
   "metadata": {
    "ExecuteTime": {
     "end_time": "2024-06-17T19:14:23.670203Z",
     "start_time": "2024-06-17T19:14:23.654580Z"
    }
   },
   "source": [
    "quiz = response.get(\"quiz\")\n",
    "review = response.get(\"review\")"
   ],
   "outputs": [],
   "execution_count": 86
  },
  {
   "cell_type": "code",
   "id": "06742de2-27cf-4a1f-923a-2acd34cf6ee4",
   "metadata": {
    "ExecuteTime": {
     "end_time": "2024-06-17T19:14:23.685834Z",
     "start_time": "2024-06-17T19:14:23.670203Z"
    }
   },
   "source": "print(quiz)",
   "outputs": [
    {
     "name": "stdout",
     "output_type": "stream",
     "text": [
      "{\n",
      "    \"1\": {\n",
      "        \"MCQ\": \"What is data science primarily used for?\",\n",
      "        \"Options\": {\n",
      "            \"a\": \"Studying history\",\n",
      "            \"b\": \"Extracting insights from data for business\",\n",
      "            \"c\": \"Creating art\",\n",
      "            \"d\": \"Building websites\"\n",
      "        },\n",
      "        \"Correct\": \"b\"\n",
      "    },\n",
      "    \"2\": {\n",
      "        \"MCQ\": \"Which type of data analysis examines data to understand why something happened?\",\n",
      "        \"Options\": {\n",
      "            \"a\": \"Descriptive analysis\",\n",
      "            \"b\": \"Diagnostic analysis\",\n",
      "            \"c\": \"Predictive analysis\",\n",
      "            \"d\": \"Prescriptive analysis\"\n",
      "        },\n",
      "        \"Correct\": \"b\"\n",
      "    },\n",
      "    \"3\": {\n",
      "        \"MCQ\": \"What does prescriptive analysis do?\",\n",
      "        \"Options\": {\n",
      "            \"a\": \"Predicts future data patterns\",\n",
      "            \"b\": \"Analyzes past data\",\n",
      "            \"c\": \"Recommends the best course of action\",\n",
      "            \"d\": \"Creates data visualizations\"\n",
      "        },\n",
      "        \"Correct\": \"c\"\n",
      "    },\n",
      "    \"4\": {\n",
      "        \"MCQ\": \"What is one benefit of data science for businesses?\",\n",
      "        \"Options\": {\n",
      "            \"a\": \"Causes disruptions in business activity\",\n",
      "            \"b\": \"Reduces revenue\",\n",
      "            \"c\": \"Allows for real-time optimization\",\n",
      "            \"d\": \"Increases customer complaints\"\n",
      "        },\n",
      "        \"Correct\": \"c\"\n",
      "    },\n",
      "    \"5\": {\n",
      "        \"MCQ\": \"How can data science help companies innovate?\",\n",
      "        \"Options\": {\n",
      "            \"a\": \"By ignoring customer feedback\",\n",
      "            \"b\": \"By uncovering new patterns and relationships\",\n",
      "            \"c\": \"By sticking to traditional methods\",\n",
      "            \"d\": \"By avoiding data analysis\"\n",
      "        },\n",
      "        \"Correct\": \"b\"\n",
      "    }\n",
      "}\n"
     ]
    }
   ],
   "execution_count": 87
  },
  {
   "metadata": {
    "ExecuteTime": {
     "end_time": "2024-06-17T19:14:23.701453Z",
     "start_time": "2024-06-17T19:14:23.685834Z"
    }
   },
   "cell_type": "code",
   "source": "print(review)",
   "id": "de467e7542ea6481",
   "outputs": [
    {
     "name": "stdout",
     "output_type": "stream",
     "text": [
      "Complexity Analysis:\n",
      "The quiz is suitable for data science students as it covers basic concepts such as the purpose of data science, types of data analysis, benefits for businesses, and innovation. The questions are clear and straightforward, requiring fundamental knowledge of data science concepts.\n",
      "\n",
      "Suggestions for Improvement:\n",
      "Consider adding more in-depth questions that require critical thinking or practical application of data science principles. Additionally, include scenarios or case studies to enhance the practical understanding of data science concepts. Overall, the quiz can be enhanced by incorporating a variety of question types to assess different cognitive skills.\n"
     ]
    }
   ],
   "execution_count": 88
  },
  {
   "metadata": {
    "ExecuteTime": {
     "end_time": "2024-06-17T19:14:23.717077Z",
     "start_time": "2024-06-17T19:14:23.701453Z"
    }
   },
   "cell_type": "code",
   "source": "quiz = json.loads(quiz)",
   "id": "4ca63c8d82f69ba6",
   "outputs": [],
   "execution_count": 89
  },
  {
   "cell_type": "code",
   "id": "ab464ecd-9002-4799-9a91-85743d88e430",
   "metadata": {
    "ExecuteTime": {
     "end_time": "2024-06-17T19:14:23.732703Z",
     "start_time": "2024-06-17T19:14:23.717077Z"
    }
   },
   "source": [
    "formatted_quiz = []\n",
    "for key, value in quiz.items():\n",
    "    mcq = value[\"MCQ\"]\n",
    "    options = \" | \".join([f\"{option}: {option_value}\" for option, option_value in value[\"Options\"].items()])\n",
    "    correct = value[\"Correct\"]\n",
    "    formatted_quiz.append({\"MCQ\": mcq, \"Choices\": options, \"Correct\": correct})"
   ],
   "outputs": [],
   "execution_count": 90
  },
  {
   "cell_type": "code",
   "id": "ec32ebe7-45fc-42b4-a1de-e5360a8993e1",
   "metadata": {
    "ExecuteTime": {
     "end_time": "2024-06-17T19:14:23.748326Z",
     "start_time": "2024-06-17T19:14:23.732703Z"
    }
   },
   "source": [
    "quiz = pd.DataFrame(formatted_quiz)"
   ],
   "outputs": [],
   "execution_count": 91
  },
  {
   "cell_type": "code",
   "id": "5927d15d-4131-4176-aeaf-555e9bfaa953",
   "metadata": {
    "ExecuteTime": {
     "end_time": "2024-06-17T19:14:23.779582Z",
     "start_time": "2024-06-17T19:14:23.748326Z"
    }
   },
   "source": [
    "quiz"
   ],
   "outputs": [
    {
     "data": {
      "text/plain": [
       "                                                 MCQ  \\\n",
       "0           What is data science primarily used for?   \n",
       "1  Which type of data analysis examines data to u...   \n",
       "2                What does prescriptive analysis do?   \n",
       "3  What is one benefit of data science for busine...   \n",
       "4      How can data science help companies innovate?   \n",
       "\n",
       "                                             Choices Correct  \n",
       "0  a: Studying history | b: Extracting insights f...       b  \n",
       "1  a: Descriptive analysis | b: Diagnostic analys...       b  \n",
       "2  a: Predicts future data patterns | b: Analyzes...       c  \n",
       "3  a: Causes disruptions in business activity | b...       c  \n",
       "4  a: By ignoring customer feedback | b: By uncov...       b  "
      ],
      "text/html": [
       "<div>\n",
       "<style scoped>\n",
       "    .dataframe tbody tr th:only-of-type {\n",
       "        vertical-align: middle;\n",
       "    }\n",
       "\n",
       "    .dataframe tbody tr th {\n",
       "        vertical-align: top;\n",
       "    }\n",
       "\n",
       "    .dataframe thead th {\n",
       "        text-align: right;\n",
       "    }\n",
       "</style>\n",
       "<table border=\"1\" class=\"dataframe\">\n",
       "  <thead>\n",
       "    <tr style=\"text-align: right;\">\n",
       "      <th></th>\n",
       "      <th>MCQ</th>\n",
       "      <th>Choices</th>\n",
       "      <th>Correct</th>\n",
       "    </tr>\n",
       "  </thead>\n",
       "  <tbody>\n",
       "    <tr>\n",
       "      <th>0</th>\n",
       "      <td>What is data science primarily used for?</td>\n",
       "      <td>a: Studying history | b: Extracting insights f...</td>\n",
       "      <td>b</td>\n",
       "    </tr>\n",
       "    <tr>\n",
       "      <th>1</th>\n",
       "      <td>Which type of data analysis examines data to u...</td>\n",
       "      <td>a: Descriptive analysis | b: Diagnostic analys...</td>\n",
       "      <td>b</td>\n",
       "    </tr>\n",
       "    <tr>\n",
       "      <th>2</th>\n",
       "      <td>What does prescriptive analysis do?</td>\n",
       "      <td>a: Predicts future data patterns | b: Analyzes...</td>\n",
       "      <td>c</td>\n",
       "    </tr>\n",
       "    <tr>\n",
       "      <th>3</th>\n",
       "      <td>What is one benefit of data science for busine...</td>\n",
       "      <td>a: Causes disruptions in business activity | b...</td>\n",
       "      <td>c</td>\n",
       "    </tr>\n",
       "    <tr>\n",
       "      <th>4</th>\n",
       "      <td>How can data science help companies innovate?</td>\n",
       "      <td>a: By ignoring customer feedback | b: By uncov...</td>\n",
       "      <td>b</td>\n",
       "    </tr>\n",
       "  </tbody>\n",
       "</table>\n",
       "</div>"
      ]
     },
     "execution_count": 92,
     "metadata": {},
     "output_type": "execute_result"
    }
   ],
   "execution_count": 92
  },
  {
   "cell_type": "code",
   "id": "6c09b24a-2a16-473c-b668-c8facb6beac3",
   "metadata": {
    "ExecuteTime": {
     "end_time": "2024-06-17T19:14:23.810827Z",
     "start_time": "2024-06-17T19:14:23.779582Z"
    }
   },
   "source": [
    "quiz.to_csv(\"../dataset/output/data_science.csv\", index=False)"
   ],
   "outputs": [],
   "execution_count": 93
  },
  {
   "cell_type": "code",
   "id": "1aa1fd4d-fd07-4e62-a0a2-13ff7c9ea42e",
   "metadata": {
    "ExecuteTime": {
     "end_time": "2024-06-17T19:14:23.826452Z",
     "start_time": "2024-06-17T19:14:23.810827Z"
    }
   },
   "source": [],
   "outputs": [],
   "execution_count": 93
  }
 ],
 "metadata": {
  "kernelspec": {
   "display_name": "Python 3 (ipykernel)",
   "language": "python",
   "name": "python3"
  },
  "language_info": {
   "codemirror_mode": {
    "name": "ipython",
    "version": 3
   },
   "file_extension": ".py",
   "mimetype": "text/x-python",
   "name": "python",
   "nbconvert_exporter": "python",
   "pygments_lexer": "ipython3",
   "version": "3.10.14"
  }
 },
 "nbformat": 4,
 "nbformat_minor": 5
}
